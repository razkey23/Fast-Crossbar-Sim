{
 "cells": [
  {
   "cell_type": "code",
   "execution_count": 15,
   "id": "e52267a5-b664-44e4-b540-2e59edea9ade",
   "metadata": {},
   "outputs": [],
   "source": [
    "import numpy as np\n",
    "import struct\n",
    "import matplotlib.pyplot as plt\n",
    "import os\n",
    "import argparse\n",
    "from matplotlib.colors import LinearSegmentedColormap\n",
    "\n",
    "def read_binary_matrix(filename):\n",
    "    \"\"\"\n",
    "    Read a matrix from a binary file.\n",
    "    \n",
    "    Format:\n",
    "    - rows (int64_t)\n",
    "    - cols (int64_t)\n",
    "    - matrix data in row-major order (float for each element)\n",
    "    \"\"\"\n",
    "    with open(filename, 'rb') as f:\n",
    "        # Read dimensions\n",
    "        rows = struct.unpack('q', f.read(8))[0]  # int64_t for rows\n",
    "        cols = struct.unpack('q', f.read(8))[0]  # int64_t for cols\n",
    "        \n",
    "        # Read matrix data\n",
    "        matrix = np.zeros((rows, cols), dtype=np.float32)\n",
    "        for i in range(rows):\n",
    "            matrix[i, :] = struct.unpack(f'{cols}f', f.read(cols * 4))\n",
    "        \n",
    "        return matrix"
   ]
  },
  {
   "cell_type": "code",
   "execution_count": 16,
   "id": "5cc9137f-4f38-47da-92b8-b65fc53e4909",
   "metadata": {},
   "outputs": [],
   "source": [
    "mac_path = \"/home/razkey23/playground/xbar_model/clean_xbar_model/input_data/mac_iterations.bin\""
   ]
  },
  {
   "cell_type": "code",
   "execution_count": 27,
   "id": "13a5c80d-d9b8-454d-a1f7-68d5f5c12d28",
   "metadata": {},
   "outputs": [
    {
     "data": {
      "text/plain": [
       "array([0.00030157, 0.00027749, 0.00026908, 0.00026731, 0.00026323,\n",
       "       0.00026444, 0.0002723 , 0.00025287, 0.00024971, 0.00025547,\n",
       "       0.00024223, 0.00024051, 0.0002349 , 0.00021758, 0.00022167,\n",
       "       0.00023092, 0.00021667, 0.00021983, 0.00021823, 0.00021734,\n",
       "       0.00021322, 0.00021574, 0.0002056 , 0.00020134, 0.00020234,\n",
       "       0.00021199, 0.00021293, 0.0001984 , 0.00020362, 0.00019098,\n",
       "       0.00020163, 0.00020218], dtype=float32)"
      ]
     },
     "execution_count": 27,
     "metadata": {},
     "output_type": "execute_result"
    }
   ],
   "source": [
    "mac_data = read_binary_matrix(mac_path)\n",
    "mac_data[0]\n",
    "mac_data[1]\n",
    "(mac_data[7]-mac_data[0])/mac_data[0]\n"
   ]
  },
  {
   "cell_type": "code",
   "execution_count": null,
   "id": "05104497-e9d6-45cc-81b4-b846cb42b4cd",
   "metadata": {},
   "outputs": [],
   "source": []
  }
 ],
 "metadata": {
  "kernelspec": {
   "display_name": "Python 3 (ipykernel)",
   "language": "python",
   "name": "python3"
  },
  "language_info": {
   "codemirror_mode": {
    "name": "ipython",
    "version": 3
   },
   "file_extension": ".py",
   "mimetype": "text/x-python",
   "name": "python",
   "nbconvert_exporter": "python",
   "pygments_lexer": "ipython3",
   "version": "3.10.12"
  }
 },
 "nbformat": 4,
 "nbformat_minor": 5
}
